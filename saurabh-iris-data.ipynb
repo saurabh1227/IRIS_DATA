{
 "cells": [
  {
   "cell_type": "markdown",
   "id": "desirable-original",
   "metadata": {
    "papermill": {
     "duration": 0.01643,
     "end_time": "2021-04-09T06:16:33.690358",
     "exception": false,
     "start_time": "2021-04-09T06:16:33.673928",
     "status": "completed"
    },
    "tags": []
   },
   "source": [
    "1. Extract Features <br/>\n",
    "a. Features and target should not have null values <br/>\n",
    "b. Features should be numeric  <br/>\n",
    "c. Features should be of the type array/dataframe <br/>\n",
    "d. Features should have some rows and columns <br/>\n",
    "\n",
    "2. Split the dataset into training and testing datasets <br/>\n",
    "e. Features should be on the same scale <br/>\n",
    "3. Train the model on the training dataset <br/>\n",
    "4. Test the model on the testing dataset <br/>"
   ]
  },
  {
   "cell_type": "code",
   "execution_count": 1,
   "id": "exotic-clarity",
   "metadata": {
    "execution": {
     "iopub.execute_input": "2021-04-09T06:16:33.726809Z",
     "iopub.status.busy": "2021-04-09T06:16:33.725665Z",
     "iopub.status.idle": "2021-04-09T06:16:33.729755Z",
     "shell.execute_reply": "2021-04-09T06:16:33.730246Z"
    },
    "papermill": {
     "duration": 0.024132,
     "end_time": "2021-04-09T06:16:33.730504",
     "exception": false,
     "start_time": "2021-04-09T06:16:33.706372",
     "status": "completed"
    },
    "tags": []
   },
   "outputs": [],
   "source": [
    "import pandas as pd"
   ]
  },
  {
   "cell_type": "code",
   "execution_count": 2,
   "id": "grand-leave",
   "metadata": {
    "execution": {
     "iopub.execute_input": "2021-04-09T06:16:33.766337Z",
     "iopub.status.busy": "2021-04-09T06:16:33.765713Z",
     "iopub.status.idle": "2021-04-09T06:16:33.789579Z",
     "shell.execute_reply": "2021-04-09T06:16:33.788910Z"
    },
    "papermill": {
     "duration": 0.042789,
     "end_time": "2021-04-09T06:16:33.789715",
     "exception": false,
     "start_time": "2021-04-09T06:16:33.746926",
     "status": "completed"
    },
    "tags": []
   },
   "outputs": [],
   "source": [
    "df=pd.read_csv(\"../input/iris-data/Iris.csv\")"
   ]
  },
  {
   "cell_type": "code",
   "execution_count": 3,
   "id": "developing-luxembourg",
   "metadata": {
    "execution": {
     "iopub.execute_input": "2021-04-09T06:16:33.838702Z",
     "iopub.status.busy": "2021-04-09T06:16:33.836137Z",
     "iopub.status.idle": "2021-04-09T06:16:33.867303Z",
     "shell.execute_reply": "2021-04-09T06:16:33.867844Z"
    },
    "papermill": {
     "duration": 0.061896,
     "end_time": "2021-04-09T06:16:33.868018",
     "exception": false,
     "start_time": "2021-04-09T06:16:33.806122",
     "status": "completed"
    },
    "tags": []
   },
   "outputs": [
    {
     "data": {
      "text/html": [
       "<div>\n",
       "<style scoped>\n",
       "    .dataframe tbody tr th:only-of-type {\n",
       "        vertical-align: middle;\n",
       "    }\n",
       "\n",
       "    .dataframe tbody tr th {\n",
       "        vertical-align: top;\n",
       "    }\n",
       "\n",
       "    .dataframe thead th {\n",
       "        text-align: right;\n",
       "    }\n",
       "</style>\n",
       "<table border=\"1\" class=\"dataframe\">\n",
       "  <thead>\n",
       "    <tr style=\"text-align: right;\">\n",
       "      <th></th>\n",
       "      <th>Id</th>\n",
       "      <th>SepalLengthCm</th>\n",
       "      <th>SepalWidthCm</th>\n",
       "      <th>PetalLengthCm</th>\n",
       "      <th>PetalWidthCm</th>\n",
       "      <th>Species</th>\n",
       "    </tr>\n",
       "  </thead>\n",
       "  <tbody>\n",
       "    <tr>\n",
       "      <th>0</th>\n",
       "      <td>1</td>\n",
       "      <td>5.1</td>\n",
       "      <td>3.5</td>\n",
       "      <td>1.4</td>\n",
       "      <td>0.2</td>\n",
       "      <td>Iris-setosa</td>\n",
       "    </tr>\n",
       "    <tr>\n",
       "      <th>1</th>\n",
       "      <td>2</td>\n",
       "      <td>4.9</td>\n",
       "      <td>3.0</td>\n",
       "      <td>1.4</td>\n",
       "      <td>0.2</td>\n",
       "      <td>Iris-setosa</td>\n",
       "    </tr>\n",
       "    <tr>\n",
       "      <th>2</th>\n",
       "      <td>3</td>\n",
       "      <td>4.7</td>\n",
       "      <td>3.2</td>\n",
       "      <td>1.3</td>\n",
       "      <td>0.2</td>\n",
       "      <td>Iris-setosa</td>\n",
       "    </tr>\n",
       "    <tr>\n",
       "      <th>3</th>\n",
       "      <td>4</td>\n",
       "      <td>4.6</td>\n",
       "      <td>3.1</td>\n",
       "      <td>1.5</td>\n",
       "      <td>0.2</td>\n",
       "      <td>Iris-setosa</td>\n",
       "    </tr>\n",
       "    <tr>\n",
       "      <th>4</th>\n",
       "      <td>5</td>\n",
       "      <td>5.0</td>\n",
       "      <td>3.6</td>\n",
       "      <td>1.4</td>\n",
       "      <td>0.2</td>\n",
       "      <td>Iris-setosa</td>\n",
       "    </tr>\n",
       "  </tbody>\n",
       "</table>\n",
       "</div>"
      ],
      "text/plain": [
       "   Id  SepalLengthCm  SepalWidthCm  PetalLengthCm  PetalWidthCm      Species\n",
       "0   1            5.1           3.5            1.4           0.2  Iris-setosa\n",
       "1   2            4.9           3.0            1.4           0.2  Iris-setosa\n",
       "2   3            4.7           3.2            1.3           0.2  Iris-setosa\n",
       "3   4            4.6           3.1            1.5           0.2  Iris-setosa\n",
       "4   5            5.0           3.6            1.4           0.2  Iris-setosa"
      ]
     },
     "execution_count": 3,
     "metadata": {},
     "output_type": "execute_result"
    }
   ],
   "source": [
    "df.head()"
   ]
  },
  {
   "cell_type": "code",
   "execution_count": 4,
   "id": "european-blocking",
   "metadata": {
    "execution": {
     "iopub.execute_input": "2021-04-09T06:16:33.907766Z",
     "iopub.status.busy": "2021-04-09T06:16:33.907110Z",
     "iopub.status.idle": "2021-04-09T06:16:33.909000Z",
     "shell.execute_reply": "2021-04-09T06:16:33.909446Z"
    },
    "papermill": {
     "duration": 0.024304,
     "end_time": "2021-04-09T06:16:33.909640",
     "exception": false,
     "start_time": "2021-04-09T06:16:33.885336",
     "status": "completed"
    },
    "tags": []
   },
   "outputs": [],
   "source": [
    "y=df[\"Species\"]"
   ]
  },
  {
   "cell_type": "markdown",
   "id": "satisfactory-pursuit",
   "metadata": {
    "papermill": {
     "duration": 0.016694,
     "end_time": "2021-04-09T06:16:33.943121",
     "exception": false,
     "start_time": "2021-04-09T06:16:33.926427",
     "status": "completed"
    },
    "tags": []
   },
   "source": [
    "# 1"
   ]
  },
  {
   "cell_type": "code",
   "execution_count": 5,
   "id": "polyphonic-caribbean",
   "metadata": {
    "execution": {
     "iopub.execute_input": "2021-04-09T06:16:33.979710Z",
     "iopub.status.busy": "2021-04-09T06:16:33.979121Z",
     "iopub.status.idle": "2021-04-09T06:16:33.985906Z",
     "shell.execute_reply": "2021-04-09T06:16:33.985220Z"
    },
    "papermill": {
     "duration": 0.026616,
     "end_time": "2021-04-09T06:16:33.986041",
     "exception": false,
     "start_time": "2021-04-09T06:16:33.959425",
     "status": "completed"
    },
    "tags": []
   },
   "outputs": [],
   "source": [
    "X=df.drop(\"Species\",axis=1)"
   ]
  },
  {
   "cell_type": "code",
   "execution_count": 6,
   "id": "vocational-james",
   "metadata": {
    "execution": {
     "iopub.execute_input": "2021-04-09T06:16:34.032063Z",
     "iopub.status.busy": "2021-04-09T06:16:34.031354Z",
     "iopub.status.idle": "2021-04-09T06:16:34.037048Z",
     "shell.execute_reply": "2021-04-09T06:16:34.036479Z"
    },
    "papermill": {
     "duration": 0.034178,
     "end_time": "2021-04-09T06:16:34.037178",
     "exception": false,
     "start_time": "2021-04-09T06:16:34.003000",
     "status": "completed"
    },
    "tags": []
   },
   "outputs": [
    {
     "data": {
      "text/html": [
       "<div>\n",
       "<style scoped>\n",
       "    .dataframe tbody tr th:only-of-type {\n",
       "        vertical-align: middle;\n",
       "    }\n",
       "\n",
       "    .dataframe tbody tr th {\n",
       "        vertical-align: top;\n",
       "    }\n",
       "\n",
       "    .dataframe thead th {\n",
       "        text-align: right;\n",
       "    }\n",
       "</style>\n",
       "<table border=\"1\" class=\"dataframe\">\n",
       "  <thead>\n",
       "    <tr style=\"text-align: right;\">\n",
       "      <th></th>\n",
       "      <th>Id</th>\n",
       "      <th>SepalLengthCm</th>\n",
       "      <th>SepalWidthCm</th>\n",
       "      <th>PetalLengthCm</th>\n",
       "      <th>PetalWidthCm</th>\n",
       "    </tr>\n",
       "  </thead>\n",
       "  <tbody>\n",
       "    <tr>\n",
       "      <th>0</th>\n",
       "      <td>1</td>\n",
       "      <td>5.1</td>\n",
       "      <td>3.5</td>\n",
       "      <td>1.4</td>\n",
       "      <td>0.2</td>\n",
       "    </tr>\n",
       "    <tr>\n",
       "      <th>1</th>\n",
       "      <td>2</td>\n",
       "      <td>4.9</td>\n",
       "      <td>3.0</td>\n",
       "      <td>1.4</td>\n",
       "      <td>0.2</td>\n",
       "    </tr>\n",
       "    <tr>\n",
       "      <th>2</th>\n",
       "      <td>3</td>\n",
       "      <td>4.7</td>\n",
       "      <td>3.2</td>\n",
       "      <td>1.3</td>\n",
       "      <td>0.2</td>\n",
       "    </tr>\n",
       "    <tr>\n",
       "      <th>3</th>\n",
       "      <td>4</td>\n",
       "      <td>4.6</td>\n",
       "      <td>3.1</td>\n",
       "      <td>1.5</td>\n",
       "      <td>0.2</td>\n",
       "    </tr>\n",
       "    <tr>\n",
       "      <th>4</th>\n",
       "      <td>5</td>\n",
       "      <td>5.0</td>\n",
       "      <td>3.6</td>\n",
       "      <td>1.4</td>\n",
       "      <td>0.2</td>\n",
       "    </tr>\n",
       "  </tbody>\n",
       "</table>\n",
       "</div>"
      ],
      "text/plain": [
       "   Id  SepalLengthCm  SepalWidthCm  PetalLengthCm  PetalWidthCm\n",
       "0   1            5.1           3.5            1.4           0.2\n",
       "1   2            4.9           3.0            1.4           0.2\n",
       "2   3            4.7           3.2            1.3           0.2\n",
       "3   4            4.6           3.1            1.5           0.2\n",
       "4   5            5.0           3.6            1.4           0.2"
      ]
     },
     "execution_count": 6,
     "metadata": {},
     "output_type": "execute_result"
    }
   ],
   "source": [
    "X.head()"
   ]
  },
  {
   "cell_type": "code",
   "execution_count": 7,
   "id": "critical-criterion",
   "metadata": {
    "execution": {
     "iopub.execute_input": "2021-04-09T06:16:34.077276Z",
     "iopub.status.busy": "2021-04-09T06:16:34.076563Z",
     "iopub.status.idle": "2021-04-09T06:16:34.081398Z",
     "shell.execute_reply": "2021-04-09T06:16:34.080912Z"
    },
    "papermill": {
     "duration": 0.026911,
     "end_time": "2021-04-09T06:16:34.081551",
     "exception": false,
     "start_time": "2021-04-09T06:16:34.054640",
     "status": "completed"
    },
    "tags": []
   },
   "outputs": [],
   "source": [
    "X=X.drop(\"Id\",axis=1)"
   ]
  },
  {
   "cell_type": "code",
   "execution_count": 8,
   "id": "reverse-forward",
   "metadata": {
    "execution": {
     "iopub.execute_input": "2021-04-09T06:16:34.128089Z",
     "iopub.status.busy": "2021-04-09T06:16:34.127447Z",
     "iopub.status.idle": "2021-04-09T06:16:34.132099Z",
     "shell.execute_reply": "2021-04-09T06:16:34.131466Z"
    },
    "papermill": {
     "duration": 0.033041,
     "end_time": "2021-04-09T06:16:34.132234",
     "exception": false,
     "start_time": "2021-04-09T06:16:34.099193",
     "status": "completed"
    },
    "tags": []
   },
   "outputs": [
    {
     "data": {
      "text/html": [
       "<div>\n",
       "<style scoped>\n",
       "    .dataframe tbody tr th:only-of-type {\n",
       "        vertical-align: middle;\n",
       "    }\n",
       "\n",
       "    .dataframe tbody tr th {\n",
       "        vertical-align: top;\n",
       "    }\n",
       "\n",
       "    .dataframe thead th {\n",
       "        text-align: right;\n",
       "    }\n",
       "</style>\n",
       "<table border=\"1\" class=\"dataframe\">\n",
       "  <thead>\n",
       "    <tr style=\"text-align: right;\">\n",
       "      <th></th>\n",
       "      <th>SepalLengthCm</th>\n",
       "      <th>SepalWidthCm</th>\n",
       "      <th>PetalLengthCm</th>\n",
       "      <th>PetalWidthCm</th>\n",
       "    </tr>\n",
       "  </thead>\n",
       "  <tbody>\n",
       "    <tr>\n",
       "      <th>0</th>\n",
       "      <td>5.1</td>\n",
       "      <td>3.5</td>\n",
       "      <td>1.4</td>\n",
       "      <td>0.2</td>\n",
       "    </tr>\n",
       "    <tr>\n",
       "      <th>1</th>\n",
       "      <td>4.9</td>\n",
       "      <td>3.0</td>\n",
       "      <td>1.4</td>\n",
       "      <td>0.2</td>\n",
       "    </tr>\n",
       "    <tr>\n",
       "      <th>2</th>\n",
       "      <td>4.7</td>\n",
       "      <td>3.2</td>\n",
       "      <td>1.3</td>\n",
       "      <td>0.2</td>\n",
       "    </tr>\n",
       "    <tr>\n",
       "      <th>3</th>\n",
       "      <td>4.6</td>\n",
       "      <td>3.1</td>\n",
       "      <td>1.5</td>\n",
       "      <td>0.2</td>\n",
       "    </tr>\n",
       "    <tr>\n",
       "      <th>4</th>\n",
       "      <td>5.0</td>\n",
       "      <td>3.6</td>\n",
       "      <td>1.4</td>\n",
       "      <td>0.2</td>\n",
       "    </tr>\n",
       "  </tbody>\n",
       "</table>\n",
       "</div>"
      ],
      "text/plain": [
       "   SepalLengthCm  SepalWidthCm  PetalLengthCm  PetalWidthCm\n",
       "0            5.1           3.5            1.4           0.2\n",
       "1            4.9           3.0            1.4           0.2\n",
       "2            4.7           3.2            1.3           0.2\n",
       "3            4.6           3.1            1.5           0.2\n",
       "4            5.0           3.6            1.4           0.2"
      ]
     },
     "execution_count": 8,
     "metadata": {},
     "output_type": "execute_result"
    }
   ],
   "source": [
    "X.head()"
   ]
  },
  {
   "cell_type": "code",
   "execution_count": 9,
   "id": "designed-shanghai",
   "metadata": {
    "execution": {
     "iopub.execute_input": "2021-04-09T06:16:34.176162Z",
     "iopub.status.busy": "2021-04-09T06:16:34.175310Z",
     "iopub.status.idle": "2021-04-09T06:16:34.179537Z",
     "shell.execute_reply": "2021-04-09T06:16:34.178942Z"
    },
    "papermill": {
     "duration": 0.029531,
     "end_time": "2021-04-09T06:16:34.179668",
     "exception": false,
     "start_time": "2021-04-09T06:16:34.150137",
     "status": "completed"
    },
    "tags": []
   },
   "outputs": [
    {
     "data": {
      "text/plain": [
       "SepalLengthCm    0\n",
       "SepalWidthCm     0\n",
       "PetalLengthCm    0\n",
       "PetalWidthCm     0\n",
       "dtype: int64"
      ]
     },
     "execution_count": 9,
     "metadata": {},
     "output_type": "execute_result"
    }
   ],
   "source": [
    "X.isna().sum()"
   ]
  },
  {
   "cell_type": "code",
   "execution_count": 10,
   "id": "economic-steal",
   "metadata": {
    "execution": {
     "iopub.execute_input": "2021-04-09T06:16:34.220622Z",
     "iopub.status.busy": "2021-04-09T06:16:34.219970Z",
     "iopub.status.idle": "2021-04-09T06:16:34.224792Z",
     "shell.execute_reply": "2021-04-09T06:16:34.225296Z"
    },
    "papermill": {
     "duration": 0.026498,
     "end_time": "2021-04-09T06:16:34.225454",
     "exception": false,
     "start_time": "2021-04-09T06:16:34.198956",
     "status": "completed"
    },
    "tags": []
   },
   "outputs": [
    {
     "data": {
      "text/plain": [
       "0"
      ]
     },
     "execution_count": 10,
     "metadata": {},
     "output_type": "execute_result"
    }
   ],
   "source": [
    "y.isna().sum()"
   ]
  },
  {
   "cell_type": "code",
   "execution_count": 11,
   "id": "ruled-benjamin",
   "metadata": {
    "execution": {
     "iopub.execute_input": "2021-04-09T06:16:34.267187Z",
     "iopub.status.busy": "2021-04-09T06:16:34.266489Z",
     "iopub.status.idle": "2021-04-09T06:16:34.274783Z",
     "shell.execute_reply": "2021-04-09T06:16:34.274246Z"
    },
    "papermill": {
     "duration": 0.030494,
     "end_time": "2021-04-09T06:16:34.274916",
     "exception": false,
     "start_time": "2021-04-09T06:16:34.244422",
     "status": "completed"
    },
    "tags": []
   },
   "outputs": [
    {
     "data": {
      "text/plain": [
       "SepalLengthCm    float64\n",
       "SepalWidthCm     float64\n",
       "PetalLengthCm    float64\n",
       "PetalWidthCm     float64\n",
       "dtype: object"
      ]
     },
     "execution_count": 11,
     "metadata": {},
     "output_type": "execute_result"
    }
   ],
   "source": [
    "X.dtypes"
   ]
  },
  {
   "cell_type": "code",
   "execution_count": 12,
   "id": "reported-channels",
   "metadata": {
    "execution": {
     "iopub.execute_input": "2021-04-09T06:16:34.319697Z",
     "iopub.status.busy": "2021-04-09T06:16:34.318878Z",
     "iopub.status.idle": "2021-04-09T06:16:34.322501Z",
     "shell.execute_reply": "2021-04-09T06:16:34.323136Z"
    },
    "papermill": {
     "duration": 0.028761,
     "end_time": "2021-04-09T06:16:34.323332",
     "exception": false,
     "start_time": "2021-04-09T06:16:34.294571",
     "status": "completed"
    },
    "tags": []
   },
   "outputs": [
    {
     "data": {
      "text/plain": [
       "pandas.core.frame.DataFrame"
      ]
     },
     "execution_count": 12,
     "metadata": {},
     "output_type": "execute_result"
    }
   ],
   "source": [
    "type(X)"
   ]
  },
  {
   "cell_type": "code",
   "execution_count": 13,
   "id": "rocky-species",
   "metadata": {
    "execution": {
     "iopub.execute_input": "2021-04-09T06:16:34.387940Z",
     "iopub.status.busy": "2021-04-09T06:16:34.387178Z",
     "iopub.status.idle": "2021-04-09T06:16:34.394174Z",
     "shell.execute_reply": "2021-04-09T06:16:34.394833Z"
    },
    "papermill": {
     "duration": 0.040926,
     "end_time": "2021-04-09T06:16:34.395039",
     "exception": false,
     "start_time": "2021-04-09T06:16:34.354113",
     "status": "completed"
    },
    "tags": []
   },
   "outputs": [
    {
     "data": {
      "text/plain": [
       "(150, 4)"
      ]
     },
     "execution_count": 13,
     "metadata": {},
     "output_type": "execute_result"
    }
   ],
   "source": [
    "X.shape"
   ]
  },
  {
   "cell_type": "code",
   "execution_count": 14,
   "id": "corrected-rough",
   "metadata": {
    "execution": {
     "iopub.execute_input": "2021-04-09T06:16:34.461990Z",
     "iopub.status.busy": "2021-04-09T06:16:34.460904Z",
     "iopub.status.idle": "2021-04-09T06:16:34.473892Z",
     "shell.execute_reply": "2021-04-09T06:16:34.474534Z"
    },
    "papermill": {
     "duration": 0.048181,
     "end_time": "2021-04-09T06:16:34.474726",
     "exception": false,
     "start_time": "2021-04-09T06:16:34.426545",
     "status": "completed"
    },
    "tags": []
   },
   "outputs": [
    {
     "data": {
      "text/html": [
       "<div>\n",
       "<style scoped>\n",
       "    .dataframe tbody tr th:only-of-type {\n",
       "        vertical-align: middle;\n",
       "    }\n",
       "\n",
       "    .dataframe tbody tr th {\n",
       "        vertical-align: top;\n",
       "    }\n",
       "\n",
       "    .dataframe thead th {\n",
       "        text-align: right;\n",
       "    }\n",
       "</style>\n",
       "<table border=\"1\" class=\"dataframe\">\n",
       "  <thead>\n",
       "    <tr style=\"text-align: right;\">\n",
       "      <th></th>\n",
       "      <th>Id</th>\n",
       "      <th>SepalLengthCm</th>\n",
       "      <th>SepalWidthCm</th>\n",
       "      <th>PetalLengthCm</th>\n",
       "      <th>PetalWidthCm</th>\n",
       "      <th>Species</th>\n",
       "    </tr>\n",
       "  </thead>\n",
       "  <tbody>\n",
       "    <tr>\n",
       "      <th>0</th>\n",
       "      <td>1</td>\n",
       "      <td>5.1</td>\n",
       "      <td>3.5</td>\n",
       "      <td>1.4</td>\n",
       "      <td>0.2</td>\n",
       "      <td>Iris-setosa</td>\n",
       "    </tr>\n",
       "    <tr>\n",
       "      <th>1</th>\n",
       "      <td>2</td>\n",
       "      <td>4.9</td>\n",
       "      <td>3.0</td>\n",
       "      <td>1.4</td>\n",
       "      <td>0.2</td>\n",
       "      <td>Iris-setosa</td>\n",
       "    </tr>\n",
       "    <tr>\n",
       "      <th>2</th>\n",
       "      <td>3</td>\n",
       "      <td>4.7</td>\n",
       "      <td>3.2</td>\n",
       "      <td>1.3</td>\n",
       "      <td>0.2</td>\n",
       "      <td>Iris-setosa</td>\n",
       "    </tr>\n",
       "    <tr>\n",
       "      <th>3</th>\n",
       "      <td>4</td>\n",
       "      <td>4.6</td>\n",
       "      <td>3.1</td>\n",
       "      <td>1.5</td>\n",
       "      <td>0.2</td>\n",
       "      <td>Iris-setosa</td>\n",
       "    </tr>\n",
       "    <tr>\n",
       "      <th>4</th>\n",
       "      <td>5</td>\n",
       "      <td>5.0</td>\n",
       "      <td>3.6</td>\n",
       "      <td>1.4</td>\n",
       "      <td>0.2</td>\n",
       "      <td>Iris-setosa</td>\n",
       "    </tr>\n",
       "  </tbody>\n",
       "</table>\n",
       "</div>"
      ],
      "text/plain": [
       "   Id  SepalLengthCm  SepalWidthCm  PetalLengthCm  PetalWidthCm      Species\n",
       "0   1            5.1           3.5            1.4           0.2  Iris-setosa\n",
       "1   2            4.9           3.0            1.4           0.2  Iris-setosa\n",
       "2   3            4.7           3.2            1.3           0.2  Iris-setosa\n",
       "3   4            4.6           3.1            1.5           0.2  Iris-setosa\n",
       "4   5            5.0           3.6            1.4           0.2  Iris-setosa"
      ]
     },
     "execution_count": 14,
     "metadata": {},
     "output_type": "execute_result"
    }
   ],
   "source": [
    "df.head()"
   ]
  },
  {
   "cell_type": "code",
   "execution_count": 15,
   "id": "early-front",
   "metadata": {
    "execution": {
     "iopub.execute_input": "2021-04-09T06:16:34.541490Z",
     "iopub.status.busy": "2021-04-09T06:16:34.540431Z",
     "iopub.status.idle": "2021-04-09T06:16:34.554300Z",
     "shell.execute_reply": "2021-04-09T06:16:34.553482Z"
    },
    "papermill": {
     "duration": 0.048136,
     "end_time": "2021-04-09T06:16:34.554455",
     "exception": false,
     "start_time": "2021-04-09T06:16:34.506319",
     "status": "completed"
    },
    "tags": []
   },
   "outputs": [
    {
     "data": {
      "text/html": [
       "<div>\n",
       "<style scoped>\n",
       "    .dataframe tbody tr th:only-of-type {\n",
       "        vertical-align: middle;\n",
       "    }\n",
       "\n",
       "    .dataframe tbody tr th {\n",
       "        vertical-align: top;\n",
       "    }\n",
       "\n",
       "    .dataframe thead th {\n",
       "        text-align: right;\n",
       "    }\n",
       "</style>\n",
       "<table border=\"1\" class=\"dataframe\">\n",
       "  <thead>\n",
       "    <tr style=\"text-align: right;\">\n",
       "      <th></th>\n",
       "      <th>SepalLengthCm</th>\n",
       "      <th>SepalWidthCm</th>\n",
       "      <th>PetalLengthCm</th>\n",
       "      <th>PetalWidthCm</th>\n",
       "    </tr>\n",
       "  </thead>\n",
       "  <tbody>\n",
       "    <tr>\n",
       "      <th>0</th>\n",
       "      <td>5.1</td>\n",
       "      <td>3.5</td>\n",
       "      <td>1.4</td>\n",
       "      <td>0.2</td>\n",
       "    </tr>\n",
       "    <tr>\n",
       "      <th>1</th>\n",
       "      <td>4.9</td>\n",
       "      <td>3.0</td>\n",
       "      <td>1.4</td>\n",
       "      <td>0.2</td>\n",
       "    </tr>\n",
       "    <tr>\n",
       "      <th>2</th>\n",
       "      <td>4.7</td>\n",
       "      <td>3.2</td>\n",
       "      <td>1.3</td>\n",
       "      <td>0.2</td>\n",
       "    </tr>\n",
       "    <tr>\n",
       "      <th>3</th>\n",
       "      <td>4.6</td>\n",
       "      <td>3.1</td>\n",
       "      <td>1.5</td>\n",
       "      <td>0.2</td>\n",
       "    </tr>\n",
       "    <tr>\n",
       "      <th>4</th>\n",
       "      <td>5.0</td>\n",
       "      <td>3.6</td>\n",
       "      <td>1.4</td>\n",
       "      <td>0.2</td>\n",
       "    </tr>\n",
       "  </tbody>\n",
       "</table>\n",
       "</div>"
      ],
      "text/plain": [
       "   SepalLengthCm  SepalWidthCm  PetalLengthCm  PetalWidthCm\n",
       "0            5.1           3.5            1.4           0.2\n",
       "1            4.9           3.0            1.4           0.2\n",
       "2            4.7           3.2            1.3           0.2\n",
       "3            4.6           3.1            1.5           0.2\n",
       "4            5.0           3.6            1.4           0.2"
      ]
     },
     "execution_count": 15,
     "metadata": {},
     "output_type": "execute_result"
    }
   ],
   "source": [
    "X.head()"
   ]
  },
  {
   "cell_type": "code",
   "execution_count": 16,
   "id": "excess-conservative",
   "metadata": {
    "execution": {
     "iopub.execute_input": "2021-04-09T06:16:34.628075Z",
     "iopub.status.busy": "2021-04-09T06:16:34.627340Z",
     "iopub.status.idle": "2021-04-09T06:16:34.633551Z",
     "shell.execute_reply": "2021-04-09T06:16:34.633011Z"
    },
    "papermill": {
     "duration": 0.046763,
     "end_time": "2021-04-09T06:16:34.633686",
     "exception": false,
     "start_time": "2021-04-09T06:16:34.586923",
     "status": "completed"
    },
    "tags": []
   },
   "outputs": [
    {
     "data": {
      "text/plain": [
       "0         Iris-setosa\n",
       "1         Iris-setosa\n",
       "2         Iris-setosa\n",
       "3         Iris-setosa\n",
       "4         Iris-setosa\n",
       "            ...      \n",
       "145    Iris-virginica\n",
       "146    Iris-virginica\n",
       "147    Iris-virginica\n",
       "148    Iris-virginica\n",
       "149    Iris-virginica\n",
       "Name: Species, Length: 150, dtype: object"
      ]
     },
     "execution_count": 16,
     "metadata": {},
     "output_type": "execute_result"
    }
   ],
   "source": [
    "y"
   ]
  },
  {
   "cell_type": "markdown",
   "id": "direct-silicon",
   "metadata": {
    "papermill": {
     "duration": 0.021934,
     "end_time": "2021-04-09T06:16:34.677787",
     "exception": false,
     "start_time": "2021-04-09T06:16:34.655853",
     "status": "completed"
    },
    "tags": []
   },
   "source": [
    "# 2"
   ]
  },
  {
   "cell_type": "code",
   "execution_count": 17,
   "id": "crazy-motor",
   "metadata": {
    "execution": {
     "iopub.execute_input": "2021-04-09T06:16:34.727402Z",
     "iopub.status.busy": "2021-04-09T06:16:34.726423Z",
     "iopub.status.idle": "2021-04-09T06:16:35.926947Z",
     "shell.execute_reply": "2021-04-09T06:16:35.927495Z"
    },
    "papermill": {
     "duration": 1.227377,
     "end_time": "2021-04-09T06:16:35.927703",
     "exception": false,
     "start_time": "2021-04-09T06:16:34.700326",
     "status": "completed"
    },
    "tags": []
   },
   "outputs": [],
   "source": [
    "from sklearn.model_selection import train_test_split"
   ]
  },
  {
   "cell_type": "code",
   "execution_count": 18,
   "id": "italic-transparency",
   "metadata": {
    "execution": {
     "iopub.execute_input": "2021-04-09T06:16:35.982555Z",
     "iopub.status.busy": "2021-04-09T06:16:35.981721Z",
     "iopub.status.idle": "2021-04-09T06:16:35.991967Z",
     "shell.execute_reply": "2021-04-09T06:16:35.992469Z"
    },
    "papermill": {
     "duration": 0.036473,
     "end_time": "2021-04-09T06:16:35.992649",
     "exception": false,
     "start_time": "2021-04-09T06:16:35.956176",
     "status": "completed"
    },
    "tags": []
   },
   "outputs": [],
   "source": [
    "X_train,X_test,y_train,y_test=train_test_split(X,y,random_state=42,stratify=y)"
   ]
  },
  {
   "cell_type": "code",
   "execution_count": null,
   "id": "vocal-strike",
   "metadata": {
    "papermill": {
     "duration": 0.024425,
     "end_time": "2021-04-09T06:16:36.040489",
     "exception": false,
     "start_time": "2021-04-09T06:16:36.016064",
     "status": "completed"
    },
    "tags": []
   },
   "outputs": [],
   "source": []
  }
 ],
 "metadata": {
  "kernelspec": {
   "display_name": "Python 3",
   "language": "python",
   "name": "python3"
  },
  "language_info": {
   "codemirror_mode": {
    "name": "ipython",
    "version": 3
   },
   "file_extension": ".py",
   "mimetype": "text/x-python",
   "name": "python",
   "nbconvert_exporter": "python",
   "pygments_lexer": "ipython3",
   "version": "3.7.9"
  },
  "papermill": {
   "default_parameters": {},
   "duration": 10.583441,
   "end_time": "2021-04-09T06:16:36.876413",
   "environment_variables": {},
   "exception": null,
   "input_path": "__notebook__.ipynb",
   "output_path": "__notebook__.ipynb",
   "parameters": {},
   "start_time": "2021-04-09T06:16:26.292972",
   "version": "2.3.2"
  }
 },
 "nbformat": 4,
 "nbformat_minor": 5
}
